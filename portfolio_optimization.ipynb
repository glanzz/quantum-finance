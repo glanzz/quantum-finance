{
 "cells": [
  {
   "cell_type": "markdown",
   "metadata": {},
   "source": [
    "## Mean-variance Portfolio Optimization using QAOA and VQE\n"
   ]
  },
  {
   "cell_type": "code",
   "execution_count": 1,
   "metadata": {},
   "outputs": [
    {
     "name": "stdout",
     "output_type": "stream",
     "text": [
      "Collecting qiskit_aer\n",
      "  Using cached qiskit_aer-0.15.1-cp311-cp311-macosx_11_0_arm64.whl.metadata (8.0 kB)\n",
      "Requirement already satisfied: qiskit>=1.1.0 in ./venv/lib/python3.11/site-packages (from qiskit_aer) (1.3.1)\n",
      "Requirement already satisfied: numpy>=1.16.3 in ./venv/lib/python3.11/site-packages (from qiskit_aer) (2.2.1)\n",
      "Requirement already satisfied: scipy>=1.0 in ./venv/lib/python3.11/site-packages (from qiskit_aer) (1.15.0)\n",
      "Requirement already satisfied: psutil>=5 in ./venv/lib/python3.11/site-packages (from qiskit_aer) (6.1.1)\n",
      "Requirement already satisfied: rustworkx>=0.15.0 in ./venv/lib/python3.11/site-packages (from qiskit>=1.1.0->qiskit_aer) (0.15.1)\n",
      "Requirement already satisfied: sympy>=1.3 in ./venv/lib/python3.11/site-packages (from qiskit>=1.1.0->qiskit_aer) (1.13.3)\n",
      "Requirement already satisfied: dill>=0.3 in ./venv/lib/python3.11/site-packages (from qiskit>=1.1.0->qiskit_aer) (0.3.9)\n",
      "Requirement already satisfied: python-dateutil>=2.8.0 in ./venv/lib/python3.11/site-packages (from qiskit>=1.1.0->qiskit_aer) (2.9.0.post0)\n",
      "Requirement already satisfied: stevedore>=3.0.0 in ./venv/lib/python3.11/site-packages (from qiskit>=1.1.0->qiskit_aer) (5.4.0)\n",
      "Requirement already satisfied: typing-extensions in ./venv/lib/python3.11/site-packages (from qiskit>=1.1.0->qiskit_aer) (4.12.2)\n",
      "Requirement already satisfied: symengine<0.14,>=0.11 in ./venv/lib/python3.11/site-packages (from qiskit>=1.1.0->qiskit_aer) (0.13.0)\n",
      "Requirement already satisfied: six>=1.5 in ./venv/lib/python3.11/site-packages (from python-dateutil>=2.8.0->qiskit>=1.1.0->qiskit_aer) (1.17.0)\n",
      "Requirement already satisfied: pbr>=2.0.0 in ./venv/lib/python3.11/site-packages (from stevedore>=3.0.0->qiskit>=1.1.0->qiskit_aer) (6.1.0)\n",
      "Requirement already satisfied: mpmath<1.4,>=1.1.0 in ./venv/lib/python3.11/site-packages (from sympy>=1.3->qiskit>=1.1.0->qiskit_aer) (1.3.0)\n",
      "Using cached qiskit_aer-0.15.1-cp311-cp311-macosx_11_0_arm64.whl (2.2 MB)\n",
      "Installing collected packages: qiskit_aer\n",
      "Successfully installed qiskit_aer-0.15.1\n",
      "Note: you may need to restart the kernel to use updated packages.\n"
     ]
    }
   ],
   "source": [
    "%pip install qiskit_aer"
   ]
  },
  {
   "cell_type": "code",
   "execution_count": 2,
   "metadata": {},
   "outputs": [],
   "source": [
    "from qiskit.circuit.library import TwoLocal\n",
    "from qiskit.result import QuasiDistribution\n",
    "from qiskit_aer.primitives import Sampler\n",
    "from qiskit_algorithms import NumPyMinimumEigensolver, QAOA, SamplingVQE\n",
    "from qiskit_algorithms.optimizers import COBYLA\n",
    "from qiskit_finance.applications.optimization import PortfolioOptimization\n",
    "from qiskit_finance.data_providers import RandomDataProvider\n",
    "from qiskit_optimization.algorithms import MinimumEigenOptimizer\n",
    "import numpy as np\n",
    "import matplotlib.pyplot as plt\n",
    "import datetime"
   ]
  },
  {
   "cell_type": "code",
   "execution_count": 10,
   "metadata": {},
   "outputs": [
    {
     "data": {
      "image/png": "[encoded data removed]",
      "text/plain": [
       "<Figure size 640x480 with 1 Axes>"
      ]
     },
     "metadata": {},
     "output_type": "display_data"
    }
   ],
   "source": [
    "# Load stocks data\n",
    "num_assets = 4\n",
    "seed = 129\n",
    "stocks = [(\"TICKER%s\" % i) for i in range(num_assets)]\n",
    "data = RandomDataProvider(tickers=stocks, start=datetime.datetime(2024, 1, 1), end=datetime.datetime(2024, 1, 30), seed=seed)\n",
    "data.run()\n",
    "mu = data.get_period_return_mean_vector()\n",
    "sigma = data.get_period_return_covariance_matrix()\n",
    "plt.imshow(sigma, interpolation=\"nearest\")\n",
    "plt.show()\n",
    "\n"
   ]
  },
  {
   "cell_type": "code",
   "execution_count": 15,
   "metadata": {},
   "outputs": [
    {
     "name": "stdout",
     "output_type": "stream",
     "text": [
      "minimize 0.000157580014499559*x_0^2 + 5.005764461849371e-06*x_0*x_1 + 6.459560212560816e-05*x_0*x_2 - 5.6591477695651116e-05*x_0*x_3 + 0.00024050692578291805*x_1^2 - 0.000299666776334722*x_1*x_2 - 0.0001906314523475045*x_1*x_3 + 0.005077135594181944*x_2^2 - 0.0009777651106963887*x_2*x_3 + 0.0017409379798213286*x_3^2 - 0.0024403884253402985*x_0 + 0.0028600309140853326*x_1 - 0.004735393149061621*x_2 - 0.022266701289053732*x_3 (4 variables, 1 constraints, 'Portfolio optimization')\n"
     ]
    }
   ],
   "source": [
    "risk_factor = 0.5\n",
    "budget = num_assets //2 \n",
    "penalty = num_assets\n",
    "portfolio = PortfolioOptimization(expected_returns=mu, covariances=sigma, risk_factor=risk_factor, budget=budget)\n",
    "quad_program = portfolio.to_quadratic_program()\n",
    "print(quad_program)\n",
    "\n",
    "\n",
    "## Pretty print the results\n",
    "def print_result(result):\n",
    "  selection = result.x\n",
    "  value = result.fval\n",
    "  print(f\"Optimal: Selected Asset - {selection}   Risk: {value}\")\n",
    "  eigen_state = result.min_eigen_solver_result.eigenstate\n",
    "  probabilities = (\n",
    "    eigen_state.binary_probabilities()\n",
    "    if isinstance(eigen_state, QuasiDistribution)\n",
    "    else {k: np.abs(v)**2 for k,v in eigen_state.to_dict().items()}\n",
    "  )\n",
    "  print(\"Full results\")\n",
    "  print(\"Selected Assets\\tRisk\\tOccurance Probablity\")\n",
    "  print(\"--\"*20)\n",
    "  probabilities = sorted(probabilities.items(), key=lambda x: x[1], reverse=True)\n",
    "  for k, v in probabilities:\n",
    "        x = np.array([int(i) for i in list(reversed(k))])\n",
    "        value = quad_program.objective.evaluate(x)\n",
    "        print(\"%10s\\t%.4f\\t\\t%.4f\" % (x, value, v))\n",
    "\n"
   ]
  },
  {
   "cell_type": "code",
   "execution_count": 16,
   "metadata": {},
   "outputs": [
    {
     "name": "stdout",
     "output_type": "stream",
     "text": [
      "Optimal: Selected Asset - [1. 0. 0. 1.]   Risk: -0.022865163197768795\n",
      "Full results\n",
      "Selected Assets\tRisk\tOccurance Probablity\n",
      "----------------------------------------\n",
      " [1 0 0 1]\t-0.0229\t\t1.0000\n"
     ]
    }
   ],
   "source": [
    "# Solving the problem classically using the numpy's eigensolver\n",
    "mineignesolver = MinimumEigenOptimizer(NumPyMinimumEigensolver())\n",
    "result = mineignesolver.solve(quad_program)\n",
    "print_result(result)"
   ]
  },
  {
   "cell_type": "code",
   "execution_count": null,
   "metadata": {},
   "outputs": [
    {
     "name": "stdout",
     "output_type": "stream",
     "text": [
      "Optimal: Selected Asset - [1. 0. 0. 1.]   Risk: -0.022865163197768795\n",
      "Full results\n",
      "Selected Assets\tRisk\tOccurance Probablity\n",
      "----------------------------------------\n",
      " [1 0 0 1]\t-0.0229\t\t0.7646\n",
      " [0 1 1 0]\t0.0031\t\t0.1514\n",
      " [1 1 1 0]\t0.0009\t\t0.0303\n",
      " [0 0 0 1]\t-0.0205\t\t0.0205\n",
      " [1 0 0 0]\t-0.0023\t\t0.0117\n",
      " [0 0 1 1]\t-0.0212\t\t0.0098\n",
      " [0 1 0 0]\t0.0031\t\t0.0039\n",
      " [1 1 1 1]\t-0.0208\t\t0.0029\n",
      " [0 0 1 0]\t0.0003\t\t0.0020\n",
      " [0 1 1 1]\t-0.0186\t\t0.0020\n",
      " [1 0 1 1]\t-0.0234\t\t0.0010\n"
     ]
    }
   ],
   "source": [
    "from qiskit_algorithms.utils import algorithm_globals\n",
    "algorithm_globals.random_seed = 1234\n",
    "cobyla = COBYLA()\n",
    "cobyla.set_options(maxiter=500)\n",
    "sampling_vqe = SamplingVQE(\n",
    "  sampler=Sampler(),\n",
    "  optimizer=cobyla,\n",
    "  ansatz=TwoLocal(num_assets, \"ry\", \"cz\", reps=3, entanglement=\"full\")\n",
    "  )\n",
    "sampling_vqe = MinimumEigenOptimizer(sampling_vqe)\n",
    "result = sampling_vqe.solve(quad_program)\n",
    "print_result(result)"
   ]
  },
  {
   "cell_type": "code",
   "execution_count": 18,
   "metadata": {},
   "outputs": [
    {
     "name": "stderr",
     "output_type": "stream",
     "text": [
      "/Users/bhargavcn/Projects/quantum-finance/venv/lib/python3.11/site-packages/scipy/optimize/_minimize.py:744: OptimizeWarning: Unknown solver options: max_iter\n",
      "  res = _minimize_cobyla(fun, x0, args, constraints, callback=callback,\n"
     ]
    },
    {
     "name": "stdout",
     "output_type": "stream",
     "text": [
      "Optimal: Selected Asset - [1. 0. 0. 1.]   Risk: -0.022865163197768795\n",
      "Full results\n",
      "Selected Assets\tRisk\tOccurance Probablity\n",
      "----------------------------------------\n",
      " [1 0 0 1]\t-0.0229\t\t0.1914\n",
      " [0 1 1 0]\t0.0031\t\t0.1816\n",
      " [0 1 0 1]\t-0.0176\t\t0.1729\n",
      " [1 1 0 0]\t0.0008\t\t0.1562\n",
      " [1 0 1 0]\t-0.0019\t\t0.1484\n",
      " [0 0 1 1]\t-0.0212\t\t0.1377\n",
      " [1 1 1 1]\t-0.0208\t\t0.0059\n",
      " [0 0 0 0]\t0.0000\t\t0.0020\n",
      " [1 1 0 1]\t-0.0200\t\t0.0010\n",
      " [1 1 1 0]\t0.0009\t\t0.0010\n",
      " [1 0 0 0]\t-0.0023\t\t0.0010\n",
      " [0 0 1 0]\t0.0003\t\t0.0010\n"
     ]
    }
   ],
   "source": [
    "algorithm_globals.random_seed = 1234\n",
    "cobyla = COBYLA()\n",
    "cobyla.set_options(max_iter=200)\n",
    "qaoa = QAOA(\n",
    "  sampler=Sampler(),\n",
    "  optimizer=cobyla,\n",
    "  reps=3\n",
    ")\n",
    "qaoa = MinimumEigenOptimizer(qaoa)\n",
    "result = qaoa.solve(quad_program)\n",
    "print_result(result)"
   ]
  }
 ],
 "metadata": {
  "kernelspec": {
   "display_name": "venv",
   "language": "python",
   "name": "python3"
  },
  "language_info": {
   "codemirror_mode": {
    "name": "ipython",
    "version": 3
   },
   "file_extension": ".py",
   "mimetype": "text/x-python",
   "name": "python",
   "nbconvert_exporter": "python",
   "pygments_lexer": "ipython3",
   "version": "3.11.9"
  }
 },
 "nbformat": 4,
 "nbformat_minor": 2
}
